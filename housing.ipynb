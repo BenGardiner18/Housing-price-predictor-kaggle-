{
 "cells": [
  {
   "cell_type": "code",
   "execution_count": 1,
   "metadata": {},
   "outputs": [],
   "source": [
    "import pandas as pd\n",
    "\n",
    "train_data = pd.read_csv(\"train.csv\")"
   ]
  },
  {
   "cell_type": "code",
   "execution_count": 2,
   "metadata": {},
   "outputs": [
    {
     "name": "stdout",
     "output_type": "stream",
     "text": [
      "   Id  MSSubClass MSZoning  LotFrontage  LotArea Street Alley LotShape  \\\n",
      "0   1          60       RL         65.0     8450   Pave   NaN      Reg   \n",
      "1   2          20       RL         80.0     9600   Pave   NaN      Reg   \n",
      "2   3          60       RL         68.0    11250   Pave   NaN      IR1   \n",
      "3   4          70       RL         60.0     9550   Pave   NaN      IR1   \n",
      "4   5          60       RL         84.0    14260   Pave   NaN      IR1   \n",
      "\n",
      "  LandContour Utilities  ... PoolArea PoolQC Fence MiscFeature MiscVal MoSold  \\\n",
      "0         Lvl    AllPub  ...        0    NaN   NaN         NaN       0      2   \n",
      "1         Lvl    AllPub  ...        0    NaN   NaN         NaN       0      5   \n",
      "2         Lvl    AllPub  ...        0    NaN   NaN         NaN       0      9   \n",
      "3         Lvl    AllPub  ...        0    NaN   NaN         NaN       0      2   \n",
      "4         Lvl    AllPub  ...        0    NaN   NaN         NaN       0     12   \n",
      "\n",
      "  YrSold  SaleType  SaleCondition  SalePrice  \n",
      "0   2008        WD         Normal     208500  \n",
      "1   2007        WD         Normal     181500  \n",
      "2   2008        WD         Normal     223500  \n",
      "3   2006        WD        Abnorml     140000  \n",
      "4   2008        WD         Normal     250000  \n",
      "\n",
      "[5 rows x 81 columns]\n"
     ]
    }
   ],
   "source": [
    "print(train_data.head())"
   ]
  },
  {
   "cell_type": "code",
   "execution_count": 3,
   "metadata": {},
   "outputs": [],
   "source": [
    "# get training and test data\n",
    "from sklearn.model_selection import train_test_split\n",
    "\n",
    "y = train_data[\"SalePrice\"]\n",
    "X = train_data.drop(\"SalePrice\",axis=1)\n",
    "\n",
    "X_train, X_test, y_train, y_test = train_test_split(X,y)"
   ]
  },
  {
   "cell_type": "code",
   "execution_count": 4,
   "metadata": {},
   "outputs": [],
   "source": [
    "# creating a pipeline to clean the data \n",
    "from sklearn.impute import SimpleImputer\n",
    "from sklearn.pipeline import Pipeline\n",
    "from sklearn.preprocessing import OneHotEncoder\n",
    "import xgboost as xgb\n",
    "\n",
    "\n",
    "numerical_transfomer = SimpleImputer(strategy = \"mean\")\n",
    "categorical_transformer = Pipeline(\n",
    "    steps = [\n",
    "        (\"imputer\",SimpleImputer(strategy= \"most_frequent\")),\n",
    "        (\"encoder\",OneHotEncoder(handle_unknown=\"ignore\", sparse=False))\n",
    "    ]\n",
    ")\n",
    "\n",
    "preprocessing = Pipeline(\n",
    "    steps = [\n",
    "        (\"cat\",categorical_transformer),\n",
    "        (\"num\",numerical_transfomer)\n",
    "        \n",
    "    ]\n",
    ")\n",
    "\n",
    "model = xgb.XGBRegressor(n_estimators=100,learning_rate=0.1)\n",
    "\n",
    "pipeline = Pipeline(\n",
    "    steps = [\n",
    "        (\"preprocessing\",preprocessing),\n",
    "        (\"model\",model)\n",
    "        \n",
    "    ]\n",
    ")"
   ]
  },
  {
   "cell_type": "code",
   "execution_count": 5,
   "metadata": {},
   "outputs": [
    {
     "name": "stdout",
     "output_type": "stream",
     "text": [
      "(1095, 80)\n",
      "(1460, 80)\n",
      "(365, 80)\n"
     ]
    }
   ],
   "source": [
    "print(X_train.shape)\n",
    "print(X.shape)\n",
    "print(X_test.shape)"
   ]
  },
  {
   "cell_type": "code",
   "execution_count": 6,
   "metadata": {},
   "outputs": [
    {
     "name": "stdout",
     "output_type": "stream",
     "text": [
      "20653.28797089041\n"
     ]
    }
   ],
   "source": [
    "# fitting and scoring model \n",
    "from sklearn.metrics import mean_absolute_error\n",
    "\n",
    "pipeline.fit(X_train,y_train)\n",
    "predictions = pipeline.predict(X_test)\n",
    "score = mean_absolute_error(y_test,predictions)\n",
    "print(score)"
   ]
  },
  {
   "cell_type": "code",
   "execution_count": 15,
   "metadata": {},
   "outputs": [
    {
     "name": "stdout",
     "output_type": "stream",
     "text": [
      "<class 'pandas.core.series.Series'>\n",
      "<class 'numpy.ndarray'>\n"
     ]
    }
   ],
   "source": [
    "# run model on test data \n",
    "predictions = pipeline.predict(test_data)\n",
    "Id = test_data[\"Id\"]\n",
    "print(type(Id))\n",
    "print(type(predictions))\n",
    "\n",
    "submission = pd.DataFrame(data=predictions,index=Id,columns=[\"SalePrice\"])\n",
    "submission.head()\n",
    "submission.to_csv(\"submission.csv\")\n"
   ]
  },
  {
   "cell_type": "code",
   "execution_count": null,
   "metadata": {},
   "outputs": [],
   "source": []
  }
 ],
 "metadata": {
  "interpreter": {
   "hash": "29fa7e70e21063531cd63c4ee8eb97c81330621fe7a279712c157754c04a5a93"
  },
  "kernelspec": {
   "display_name": "Python 3.8.0 32-bit",
   "language": "python",
   "name": "python3"
  },
  "language_info": {
   "codemirror_mode": {
    "name": "ipython",
    "version": 3
   },
   "file_extension": ".py",
   "mimetype": "text/x-python",
   "name": "python",
   "nbconvert_exporter": "python",
   "pygments_lexer": "ipython3",
   "version": "3.9.7"
  },
  "orig_nbformat": 4
 },
 "nbformat": 4,
 "nbformat_minor": 2
}
